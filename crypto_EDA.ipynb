{
 "cells": [
  {
   "cell_type": "code",
   "execution_count": null,
   "id": "549ca5f3",
   "metadata": {
    "scrolled": false
   },
   "outputs": [],
   "source": [
    "from datetime import datetime\n",
    "from datetime import date\n",
    "from math import pi\n",
    "import matplotlib.pyplot as plt\n",
    "import pandas as pd\n",
    "import numpy as np\n",
    "import os\n",
    "\n",
    "path = os.getcwd()\n",
    "print(path)\n",
    "\n",
    "# import API\n",
    "from pycoingecko import CoinGeckoAPI\n",
    "\n",
    "#import py scripts\n",
    "import sandinfo as si\n",
    "import crypto_ETL as ce\n",
    "\n",
    "# pandas options\n",
    "pd.options.display.float_format = '{:,.2f}'.format\n",
    "pd.options.mode.chained_assignment = None\n",
    "\n",
    "# USE CAUTION/UNCOMMENT if necessary\n",
    "pd.set_option('display.max_rows', 10)\n",
    "pd.set_option('display.max_columns', 30)\n",
    "# pd.set_option('display.width', None)\n",
    "pd.set_option('display.max_colwidth', 150)\n",
    "\n",
    "# plotting\n",
    "%matplotlib inline\n",
    "\n",
    "# Constants:\n",
    "SAND_PRICE_DATETIME = '2021-11-24' # Date cut for analysis\n",
    "SAND_PRICE_CHANGEPT = '2021-10-28' # Date Facebook announces Meta\n",
    "SAND_PRICE_IN_USD = 7.23 # Price of SAND at date cutoff\n",
    "RISK_FREE_RATE = 0.025\n"
   ]
  },
  {
   "cell_type": "markdown",
   "id": "754c3128",
   "metadata": {},
   "source": [
    "## Data Ingestion"
   ]
  },
  {
   "cell_type": "code",
   "execution_count": null,
   "id": "31a5b9b9",
   "metadata": {
    "scrolled": false
   },
   "outputs": [],
   "source": [
    "# Initial dataframe is the top-level, need to flatten\n",
    "df_initial = pd.read_json('./final_jsons/top_wallets_and_transactions_with_USD_prices_and_tags.json')\n",
    "display(df_initial.head())\n",
    "print(df_initial.shape)\n",
    "print(df_initial.columns)\n",
    "\n",
    "# df_flat takes the json object and flattens for transaction level data.\n",
    "df_flat = ce.flat_sand_data(\"./final_jsons/top_wallets_and_transactions_with_USD_prices_and_tags.json\")"
   ]
  },
  {
   "cell_type": "code",
   "execution_count": null,
   "id": "b4220f4c",
   "metadata": {},
   "outputs": [],
   "source": [
    "# List of unique \"tags\". Wallets are \"tagged\" to denote a Smart Contract or belonging to a centralized exchange.\n",
    "# For the purposes of this study in which we are assessing the investment activity performance, we are excluding tagged wallets.\n",
    "\n",
    "df_flat['holders_tag'].unique()"
   ]
  },
  {
   "cell_type": "code",
   "execution_count": null,
   "id": "84b24c33",
   "metadata": {
    "scrolled": true
   },
   "outputs": [],
   "source": [
    "# df_no_tag filters out the all transactions with holders that are \"tagged\".\n",
    "\n",
    "df_no_tag = df_flat[df_flat['holders_tag'].isnull()]"
   ]
  },
  {
   "cell_type": "code",
   "execution_count": null,
   "id": "0ff991e0",
   "metadata": {},
   "outputs": [],
   "source": [
    "# Creates a new DF that allows for easier readiblity such as converting UNIX timestamp to datetime.\n",
    "\n",
    "ce.make_readible(df_no_tag)"
   ]
  },
  {
   "cell_type": "markdown",
   "id": "22f6111e",
   "metadata": {},
   "source": [
    "## Most frequent From and To Wallet Addresses:"
   ]
  },
  {
   "cell_type": "code",
   "execution_count": null,
   "id": "ee1fe995",
   "metadata": {},
   "outputs": [],
   "source": [
    "display(df_no_tag['address_from'].value_counts())\n",
    "display(df_no_tag['address_to'].value_counts())\n"
   ]
  },
  {
   "cell_type": "code",
   "execution_count": null,
   "id": "778e4b85",
   "metadata": {
    "scrolled": false
   },
   "outputs": [],
   "source": [
    "# df_tx takes a copy of df_no_tag and makes for better readability.\n",
    "# EXCLUDES tagged wallets.\n",
    "\n",
    "df_tx = ce.make_readible(df_no_tag)\n",
    "df_tx.columns"
   ]
  },
  {
   "cell_type": "markdown",
   "id": "a8b102b1",
   "metadata": {},
   "source": [
    "## Wallet-Level Data:"
   ]
  },
  {
   "cell_type": "code",
   "execution_count": null,
   "id": "404cced8",
   "metadata": {
    "scrolled": false
   },
   "outputs": [],
   "source": [
    "# wallet_level_data (df): this should provide a wallet-level dataframe to house investment return data.\n",
    "# We are choosing df_flat which still has the UNIX timestamp.\n",
    "\n",
    "wallet_level_data = ce.aggregate_wallet(df_flat,df_tx)\n",
    "wallet_level_data"
   ]
  },
  {
   "cell_type": "code",
   "execution_count": null,
   "id": "94b25c2a",
   "metadata": {},
   "outputs": [],
   "source": [
    "# wallet_level_data2 collapses multiple initial transactions into single aggregate purchases.\n",
    "\n",
    "wallet_level_data2 = ce.collapse_initial(wallet_level_data)\n",
    "wallet_level_data2 = wallet_level_data2.reset_index() \n",
    "wallet_level_data2['holders_address'].nunique()"
   ]
  },
  {
   "cell_type": "markdown",
   "id": "3505753a",
   "metadata": {},
   "source": [
    "### Now time to get the transaction for each wallet to calculate the end value...."
   ]
  },
  {
   "cell_type": "code",
   "execution_count": null,
   "id": "93b34e39",
   "metadata": {},
   "outputs": [],
   "source": [
    "# df_tx[df_tx['holders_address']]\n",
    "df_tx_reduce = df_tx[['holders_address','date_time','value','USD_price_at_timestamp','value_in_USD']]\n",
    "df_tx_reduce"
   ]
  },
  {
   "cell_type": "markdown",
   "id": "0aab4ea4",
   "metadata": {},
   "source": [
    "### For later, all these wallets started off with OUTFLOWS and are skewing our analysis"
   ]
  },
  {
   "cell_type": "code",
   "execution_count": null,
   "id": "a8395759",
   "metadata": {},
   "outputs": [],
   "source": [
    "display(df_tx_reduce.groupby('holders_address').last().reset_index().sort_values('value',axis=0,ascending=False)[0:5])\n",
    "print('Let\\'s drop the top 5 of these transaction from analysis.')\n",
    "\n",
    "drop_address = df_tx_reduce.groupby('holders_address').last().reset_index().sort_values('value',axis=0,ascending=False)[0:5]['holders_address'].tolist()\n",
    "drop_address"
   ]
  },
  {
   "cell_type": "code",
   "execution_count": null,
   "id": "1398d25f",
   "metadata": {},
   "outputs": [],
   "source": [
    "df_wallet_return = df_tx_reduce.copy()\n",
    "df_wallet_return = df_wallet_return.groupby('holders_address').sum()[['value','value_in_USD']].reset_index()\n",
    "df_wallet_return.sort_values('value',axis=0,ascending=False,inplace=True)\n",
    "df_wallet_return"
   ]
  },
  {
   "cell_type": "code",
   "execution_count": null,
   "id": "24d5c34a",
   "metadata": {},
   "outputs": [],
   "source": [
    "### the value is how many coins are left in the value\n",
    "### the value_in_USD is their weighted average investment base\n",
    "\n",
    "df_wallet_return['ending_value_in_USD'] = df_wallet_return['value']*SAND_PRICE_IN_USD\n",
    "df_wallet_return['return_by_wallet'] = df_wallet_return['ending_value_in_USD']/df_wallet_return['value_in_USD']-1\n",
    "df_wallet_return.describe()"
   ]
  },
  {
   "cell_type": "code",
   "execution_count": null,
   "id": "b2193e1c",
   "metadata": {},
   "outputs": [],
   "source": [
    "display(df_wallet_return.sort_values('return_by_wallet',ascending=False))"
   ]
  },
  {
   "cell_type": "code",
   "execution_count": null,
   "id": "b48c64f7",
   "metadata": {},
   "outputs": [],
   "source": [
    "df_wallet_return.hist('return_by_wallet')\n",
    "plt.show()\n",
    "\n",
    "print('Number of wallets with POSITIVE returns:', len(df_wallet_return[df_wallet_return['return_by_wallet']>0]))\n",
    "print('Number of wallets with NEGATIVE returns:', len(df_wallet_return[df_wallet_return['return_by_wallet']<0]))"
   ]
  },
  {
   "cell_type": "code",
   "execution_count": null,
   "id": "320c0c59",
   "metadata": {},
   "outputs": [],
   "source": [
    "df_wallet_return_merge = df_wallet_return[['holders_address','ending_value_in_USD','return_by_wallet']]\n",
    "df_wallet_return_merge"
   ]
  },
  {
   "cell_type": "code",
   "execution_count": null,
   "id": "2a2ae31c",
   "metadata": {},
   "outputs": [],
   "source": [
    "wallet_level_data2 = pd.merge(wallet_level_data2, df_wallet_return_merge, on ='holders_address', how ='inner')\n",
    "wallet_level_data2.head()"
   ]
  },
  {
   "cell_type": "markdown",
   "id": "aa26104a",
   "metadata": {},
   "source": [
    "# Sanity Checks"
   ]
  },
  {
   "cell_type": "code",
   "execution_count": null,
   "id": "d23b07d4",
   "metadata": {
    "scrolled": true
   },
   "outputs": [],
   "source": [
    "print(df_tx.columns)\n",
    "\n",
    "# Only pulls in transaction type: transfer.\n",
    "print(f'\\n\\nThe type of transaction pulled:')\n",
    "display(df_tx.value_counts(['tx_type']))\n",
    "\n",
    "# Date Range, seems reasonable\n",
    "print(f'\\n\\nThe first date of date range is:')\n",
    "display(df_tx['date_time'].min())\n",
    "print(f'\\n\\nThe last date of date range is:')\n",
    "display(df_tx['date_time'].max())\n",
    "\n",
    "# Any same to/from addresses?\n",
    "print(f'\\n\\nWere there transactions where the tokens were transfer from one wallet to itself?')\n",
    "display(df_tx.value_counts(df_tx['address_from']==df_tx['address_to']))\n",
    "                       \n",
    "# 18k transactions in line with Ethan's estimates.\n",
    "print(f'\\n\\nThe total number of transactions in the dataset:')\n",
    "print(f'Shape: {df_tx.shape}')\n"
   ]
  },
  {
   "cell_type": "code",
   "execution_count": null,
   "id": "f13b7c31",
   "metadata": {
    "scrolled": false
   },
   "outputs": [],
   "source": [
    "# The sum of the holders_share should be less than 100%\n",
    "print(f'\\n\\nThe sum of the holders_share is:')\n",
    "total_share = df_tx[['holders_address', 'holders_share']].groupby('holders_address').max().sort_values('holders_share', ascending=False)\n",
    "display(total_share['holders_share'].sum())\n",
    "\n",
    "# What is the sum of holders_share that are \"Smart Contracts?\"\n",
    "print(f'\\n\\nThe sum of the holders_share tagged as \"Smart Contracts\" is:')\n",
    "tagged_transactions = df_flat[df_flat['holders_tag'].notnull()]\n",
    "smart_contracts = tagged_transactions[tagged_transactions['holders_tag'].str.contains('Smart Contract',regex=False)]\n",
    "smart_contracts_share = smart_contracts[['holders_address', 'holders_share','holders_tag']].groupby('holders_address').max().sort_values('holders_share', ascending=False).sum()\n",
    "display(smart_contracts_share['holders_share'].sum().round())\n",
    "\n",
    "# What is the sum of holder_share that are Exchanges?\n",
    "print(f'\\n\\nThe sum of the holders_share tagged as exchanges is:')\n",
    "not_smart_contracts = tagged_transactions[~tagged_transactions['holders_tag'].str.contains('Smart Contract',regex=False)]\n",
    "not_contracts_share = not_smart_contracts[['holders_address', 'holders_share','holders_tag']].groupby('holders_address').max().sort_values('holders_share', ascending=False).sum()\n",
    "display(not_contracts_share['holders_share'].sum())\n",
    "\n",
    "# The sum of the balance should be less than 100% of the total # of circulating tokens\n",
    "print(f'\\n\\nThe sum of the holders_balance is:')\n",
    "total_balance = df_tx[['holders_address', 'holders_balance']].groupby('holders_address').max().sort_values('holders_balance', ascending=False)\n",
    "display(total_balance['holders_balance'].sum().round())\n",
    "\n",
    "\n",
    "# The USD price at each date_time stamp\n",
    "print(f'\\n\\nThe USD price at each date_time stamp:')\n",
    "display(df_tx[['date_time', 'USD_price_at_timestamp']].sort_values('date_time'))\n"
   ]
  },
  {
   "cell_type": "markdown",
   "id": "24b28651",
   "metadata": {},
   "source": [
    "## Daily SAND price, market cap, and trading volume"
   ]
  },
  {
   "cell_type": "code",
   "execution_count": null,
   "id": "fb6e2881",
   "metadata": {},
   "outputs": [],
   "source": [
    "# Graph full time range of $SAND returns for COIN Gecko API from 2020-08-05 to now\n",
    "# Set time range, then pull SAND returns, and lastly graph the dataset\n",
    "time_range = si.set_timeframe('2020-8-5', '2021-12-1')\n",
    "sand_info_df = si.get_sand_returns(time_range)\n",
    "si.sand_price_volume_plot(sand_info_df)\n",
    "\n",
    "# Graph more recent time range of $SAND returns with local max and min\n",
    "time_range_m = si.set_timeframe('2021-8-5', '2021-12-1')\n",
    "sand_info_m = si.get_sand_returns(time_range_m)\n",
    "si.sand_mm_plot(sand_info_m)\n"
   ]
  },
  {
   "cell_type": "code",
   "execution_count": null,
   "id": "994207b1",
   "metadata": {},
   "outputs": [],
   "source": [
    "# Shows the local min and max values in the $SAND price data\n",
    "max_min_df = sand_info_df.loc[(sand_info_df['min'].notnull()) | (sand_info_df['max'].notnull())]"
   ]
  },
  {
   "cell_type": "code",
   "execution_count": null,
   "id": "0c9836a5",
   "metadata": {},
   "outputs": [],
   "source": [
    "sand_info_df"
   ]
  },
  {
   "cell_type": "markdown",
   "id": "0a721899",
   "metadata": {},
   "source": [
    "## Calculate SAND returns and alpha"
   ]
  },
  {
   "cell_type": "code",
   "execution_count": null,
   "id": "a42beadf",
   "metadata": {},
   "outputs": [],
   "source": [
    "# SANITY CHECK to see if the dates for the two df (wallet_level_data2 and sand_info_df) align\n",
    "\n",
    "# From this check, it's evident that Coin Gecko does not have data on the $SAND price\n",
    "# before 8/14/2021, which means we won't be able to pull the price data for any dates before then.\n",
    "\n",
    "print(\"The minimum date in 'wallet_level_data2':\\n\", wallet_level_data2['initial_dt'].min(), \"\\n\\n\")\n",
    "print(\"The minimum date in 'sand_info_df' that is pulled from coin gecko is:\\n\\n\", sand_info_df.min())\n",
    "\n"
   ]
  },
  {
   "cell_type": "code",
   "execution_count": null,
   "id": "591abfce",
   "metadata": {},
   "outputs": [],
   "source": [
    "# Calculating SAND returns and alpha\n",
    "\n",
    "wallet_level_data2['sand_return'] = SAND_PRICE_IN_USD/wallet_level_data2['USD_price_at_timestamp']-1\n",
    "wallet_level_data2['wallet_alpha'] = wallet_level_data2['return_by_wallet'] - wallet_level_data2['sand_return']\n",
    "wallet_level_data2"
   ]
  },
  {
   "cell_type": "markdown",
   "id": "ec75365e",
   "metadata": {},
   "source": [
    "## Calculate both annualized wallet and SAND returns"
   ]
  },
  {
   "cell_type": "code",
   "execution_count": null,
   "id": "06972a59",
   "metadata": {},
   "outputs": [],
   "source": [
    "# Calculate wallet returns\n",
    "wallet_level_data2['annualized_wallet_returns'] = (1+wallet_level_data2['return_by_wallet'])\\\n",
    "                                                    **(365/wallet_level_data2['holding_period_days'])-1\n",
    "\n",
    "# Calculate SAND returns\n",
    "wallet_level_data2['annualized_sand_returns'] = (1+wallet_level_data2['sand_return'])\\\n",
    "                                                    **(365/wallet_level_data2['holding_period_days'])-1"
   ]
  },
  {
   "cell_type": "code",
   "execution_count": null,
   "id": "02481aef",
   "metadata": {},
   "outputs": [],
   "source": [
    "wallet_level_data2"
   ]
  },
  {
   "cell_type": "markdown",
   "id": "4fae5a6a",
   "metadata": {},
   "source": [
    "## Calculate wallet beta"
   ]
  },
  {
   "cell_type": "code",
   "execution_count": null,
   "id": "9e291220",
   "metadata": {},
   "outputs": [],
   "source": [
    "wallet_level_data2['wallet_beta'] = SAND_PRICE_IN_USD/wallet_level_data2['USD_price_at_timestamp']-1\n",
    "wallet_level_data2"
   ]
  },
  {
   "cell_type": "markdown",
   "id": "c4df3c2f",
   "metadata": {},
   "source": [
    "## Calculating volatility"
   ]
  },
  {
   "cell_type": "code",
   "execution_count": null,
   "id": "8708fef7",
   "metadata": {},
   "outputs": [],
   "source": [
    "# SANITY CHECK to see if the dates for the two df (wallet_level_data2 and sand_info_df) align\n",
    "\n",
    "# From this check, it's evident that Coin Gecko does not have data on the $SAND price\n",
    "# before 8/14/2021, which means we won't be able to pull the price data for any dates before then.\n",
    "\n",
    "print(\"The minimum date in 'wallet_level_data2':\\n\", wallet_level_data2['initial_dt'].min(), \"\\n\\n\")\n",
    "print(\"The minimum date in 'sand_info_df' that is pulled from coin gecko is:\\n\\n\", sand_info_df.min())\n"
   ]
  },
  {
   "cell_type": "code",
   "execution_count": null,
   "id": "54d859d7",
   "metadata": {},
   "outputs": [],
   "source": [
    "volatility_df = []\n",
    "\n",
    "for i in list(wallet_level_data2['initial_dt']):\n",
    "    \n",
    "    # Convert initial_dt date/time to a standard string format\n",
    "    start_date = si.standard_date(i)\n",
    "    \n",
    "    # Get index corresponding with the specified start_date\n",
    "    index = si.get_index(start_date, sand_info_df)\n",
    "\n",
    "    # Filter the sand_info_df to have only prices data over the specified time frame\n",
    "    get_volatility = si.filter_df(index, sand_info_df)\n",
    "\n",
    "    # Calculate the volatility for SAND over this timeframe\n",
    "    volatility = si.sand_volatility(get_volatility)\n",
    "    \n",
    "    # Append to the volatility_df list\n",
    "    volatility_df.append(volatility)\n",
    "\n",
    "wallet_level_data2['sand_volatility'] = pd.DataFrame(volatility_df)\n"
   ]
  },
  {
   "cell_type": "code",
   "execution_count": null,
   "id": "8282322b",
   "metadata": {},
   "outputs": [],
   "source": [
    "wallet_level_data2"
   ]
  },
  {
   "cell_type": "markdown",
   "id": "23ad650b",
   "metadata": {},
   "source": [
    "## Calculate Sharpe Ratio"
   ]
  },
  {
   "cell_type": "code",
   "execution_count": null,
   "id": "caeae538",
   "metadata": {},
   "outputs": [],
   "source": [
    "\n",
    "# Calculating the Sharpe Ratio, assume risk free rate of 0.025\n",
    "wallet_level_data2['sharpe_ratio'] = (wallet_level_data2['return_by_wallet']\n",
    "                                      -RISK_FREE_RATE)/wallet_level_data2['sand_volatility']\n",
    "\n",
    "wallet_level_data2"
   ]
  },
  {
   "cell_type": "code",
   "execution_count": null,
   "id": "079c03d3",
   "metadata": {
    "scrolled": true
   },
   "outputs": [],
   "source": [
    "# Graph the distribution of Sharpe Ratio\n",
    "\n",
    "x_sharpe = wallet_level_data2['sharpe_ratio']\n",
    "display(x_sharpe.describe())\n",
    "\n",
    "plt.subplots()\n",
    "plt.hist(x_sharpe, color='b')\n",
    "plt.title(\"Distribution of Sharpe Ratio\", fontsize=20)\n",
    "plt.xlabel('Sharpe Ratio', fontsize=15)\n",
    "plt.ylabel('Distribution', color='b', fontsize=15)"
   ]
  },
  {
   "cell_type": "code",
   "execution_count": null,
   "id": "090ed5b9",
   "metadata": {},
   "outputs": [],
   "source": [
    "# What is the distribution of holding period in days for our wallets?\n",
    "\n",
    "x_holding_period = wallet_level_data2['holding_period_days'].sort_values()\n",
    "less_than_30 = wallet_level_data2[wallet_level_data2['holding_period_days'] > 30]['holders_address'].count() #110 count\n",
    "\n",
    "plt.subplots(figsize=(15,10))\n",
    "# plt.plot(x, yp, 'b', label = 'daily price')\n",
    "plt.hist(x_holding_period, bins = 45)\n",
    "ymin, ymax = plt.ylim()\n",
    "\n",
    "plt.title(\"Distribution of Holding Period (Days)\", fontsize=20)\n",
    "plt.xlabel('Holding Period (days)', fontsize=15)\n",
    "plt.ylabel('Count of Wallets', color='b', fontsize=15)\n",
    "plt.axvline(x=30, color='red', linestyle='--')\n",
    "plt.annotate(\"Wallets less than \\n 30 days old\", xy =(30, ymax-10), xytext = (30+5,ymax-10), size=12)"
   ]
  },
  {
   "cell_type": "code",
   "execution_count": null,
   "id": "135a32a6",
   "metadata": {
    "scrolled": false
   },
   "outputs": [],
   "source": [
    "wallet_level_data2.loc[wallet_level_data2['sharpe_ratio'] > 150]"
   ]
  },
  {
   "cell_type": "code",
   "execution_count": null,
   "id": "811141a1",
   "metadata": {},
   "outputs": [],
   "source": [
    "top_five_wallets = [\n",
    "    '0x4db1578cf389b1cda470c08e61c406f3e8bc2e7d', # 41\n",
    "    '0x6bcbe6c086cc66806b0b7b4a53409058d85f61c8', # 56\n",
    "    '0x896078a63a1878b7fdc8dba468c9a59b94fd7a92', # 72\n",
    "    '0xb701dec4186c8c7f1a7047b33f9f9a39febb1db1', # 107\n",
    "    '0xb8700c17bb966ab854a343377ddf6a2ef06630a3'  # 108\n",
    "]\n",
    "display(wallet_level_data2[wallet_level_data2['holders_address'].isin(top_five_wallets)])\n",
    "                               "
   ]
  },
  {
   "cell_type": "code",
   "execution_count": null,
   "id": "dbc27057",
   "metadata": {},
   "outputs": [],
   "source": [
    "# Graph wallet returns\n",
    "\n",
    "x_std = wallet_level_data2['sand_volatility']\n",
    "y_returns = wallet_level_data2['return_by_wallet']\n",
    "\n",
    "plt.subplots(figsize=(15,10))\n",
    "# plt.plot(x, yp, 'b', label = 'daily price')\n",
    "plt.scatter(x_std, y_returns, color='r')\n",
    "\n",
    "plt.title(\"Sand Volatility vs Wallet returns\", fontsize=20)\n",
    "plt.xlabel('Volatility', fontsize=15)\n",
    "plt.ylabel('Returns', color='b', fontsize=15)\n",
    "\n",
    "# Plot wallet #41 (0x4db1578cf389b1cda470c08e61c406f3e8bc2e7d), (sand_volatility, return_by_wallet)\n",
    "arrowprops = dict(arrowstyle = \"->\",connectionstyle = \"angle, angleA = 0, angleB = 120, rad = 10\")\n",
    "plt.annotate(\"Wallet #41\", xy =(2, 705.67),\n",
    "            xytext = (2.01,670), size=10,\n",
    "            arrowprops = arrowprops,)\n",
    "\n",
    "# Plot wallet #56 (0x6bcbe6c086cc66806b0b7b4a53409058d85f61c8), (sand_volatility, return_by_wallet)\n",
    "arrowprops = dict(arrowstyle = \"->\",connectionstyle = \"angle, angleA = 0, angleB = 120, rad = 10\")\n",
    "plt.annotate(\"Wallet #56\", xy =(2.17, 80.56),\n",
    "            xytext = (2.15,90), size=10,\n",
    "            arrowprops = arrowprops,)\n",
    "\n",
    "# Plot wallet #72 (0xb701dec4186c8c7f1a7047b33f9f9a39febb1db1), (sand_volatility, return_by_wallet)\n",
    "arrowprops = dict(arrowstyle = \"->\",connectionstyle = \"angle, angleA = 0, angleB = 120, rad = 10\")\n",
    "plt.annotate(\"Wallet #72\", xy =(2.19, 195.76),\n",
    "            xytext = (2.2,195), size=10,\n",
    "            arrowprops = arrowprops,)\n",
    "\n",
    "# Plot wallet #107 (0x896078a63a1878b7fdc8dba468c9a59b94fd7a92), (sand_volatility, return_by_wallet)\n",
    "arrowprops = dict(arrowstyle = \"->\",connectionstyle = \"angle, angleA = 0, angleB = 120, rad = 10\")\n",
    "plt.annotate(\"Wallet #107\", xy =(2.02, 140.76),\n",
    "            xytext = (2,150), size=10,\n",
    "            arrowprops = arrowprops,)\n",
    "\n",
    "# Plot wallet #108 (0xb8700c17bb966ab854a343377ddf6a2ef06630a3), (sand_volatility, return_by_wallet)\n",
    "arrowprops = dict(arrowstyle = \"->\",connectionstyle = \"angle, angleA = 0, angleB = 120, rad = 10\")\n",
    "plt.annotate(\"Wallet #108\", xy =(2.12, 75.3),\n",
    "            xytext = (2.05,80), size=10,\n",
    "            arrowprops = arrowprops,)\n",
    "\n",
    "u=2.1     #x-position of the center\n",
    "v=400    #y-position of the center\n",
    "a=0.2     #radius on the x-axis\n",
    "b=350    #radius on the y-axis\n",
    "\n",
    "t = np.linspace(0, 2*pi, 100)\n",
    "plt.plot( u+a*np.cos(t) , v+b*np.sin(t) )\n",
    "plt.grid(color='lightgray',linestyle='--')\n",
    "\n"
   ]
  },
  {
   "cell_type": "code",
   "execution_count": null,
   "id": "b32a3e4c",
   "metadata": {},
   "outputs": [],
   "source": [
    "# Graph wallet alpha\n",
    "\n",
    "x_std = wallet_level_data2['sand_volatility']\n",
    "y_returns = wallet_level_data2['wallet_alpha']\n",
    "\n",
    "plt.subplots(figsize=(15,10))\n",
    "# plt.plot(x, yp, 'b', label = 'daily price')\n",
    "plt.scatter(x_std, y_returns, color='r')\n",
    "\n",
    "plt.title(\"Sand Volatility vs Wallet Alpha\", fontsize=20)\n",
    "plt.xlabel('Volatility', fontsize=15)\n",
    "plt.ylabel('Wallet Alpha', color='b', fontsize=15)"
   ]
  },
  {
   "cell_type": "code",
   "execution_count": null,
   "id": "6995c7f3",
   "metadata": {},
   "outputs": [],
   "source": [
    "# Plot Sharpe ratio\n",
    "\n",
    "x_std = wallet_level_data2['sand_volatility']\n",
    "y_returns = wallet_level_data2['sharpe_ratio']\n",
    "\n",
    "plt.subplots(figsize=(15,10))\n",
    "# plt.plot(x, yp, 'b', label = 'daily price')\n",
    "plt.scatter(x_std, y_returns, color='r')\n",
    "\n",
    "plt.title(\"Sand Volatility vs Sharpe Ratio\", fontsize=20)\n",
    "plt.xlabel('Volatility', fontsize=15)\n",
    "plt.ylabel('Sharpe Ratio', color='b', fontsize=15)"
   ]
  },
  {
   "cell_type": "markdown",
   "id": "aa50832a",
   "metadata": {},
   "source": [
    "## Data Analysis"
   ]
  },
  {
   "cell_type": "code",
   "execution_count": null,
   "id": "31fb6c3c",
   "metadata": {},
   "outputs": [],
   "source": [
    "# Graph histogram of the wallet alpha spread\n",
    "display(wallet_level_data2['wallet_alpha'].describe())\n",
    "\n",
    "wallet_level_data2.hist('wallet_alpha')\n",
    "plt.show()\n",
    "\n",
    "print('Number of wallets with POSITIVE alpha:', len(wallet_level_data2[wallet_level_data2['wallet_alpha']>0]))\n",
    "print('Number of wallets with NEGATIVE alpha:', len(wallet_level_data2[wallet_level_data2['wallet_alpha']<0]))"
   ]
  },
  {
   "cell_type": "code",
   "execution_count": null,
   "id": "b4a24bdf",
   "metadata": {},
   "outputs": [],
   "source": [
    "# Sort by top Sharpe Ratios\n",
    "sort_sharpe = wallet_level_data2.sort_values('sharpe_ratio', ascending=False)\n",
    "sharpe_only = sort_sharpe.loc[:2,['holders_address', 'sharpe_ratio']]\n",
    "sharpe_only.head()"
   ]
  },
  {
   "cell_type": "code",
   "execution_count": null,
   "id": "2ce2d00c",
   "metadata": {},
   "outputs": [],
   "source": [
    "# Sort by top wallet alphas\n",
    "sort_alpha = wallet_level_data2.sort_values('wallet_alpha', ascending=False)\n",
    "alpha_only = sort_alpha.loc[:2,['holders_address', 'wallet_alpha']]\n",
    "alpha_only.head()"
   ]
  },
  {
   "cell_type": "code",
   "execution_count": null,
   "id": "d0d6b75b",
   "metadata": {},
   "outputs": [],
   "source": [
    "# Sort by top wallet returns\n",
    "sort_returns = wallet_level_data2.sort_values('return_by_wallet', ascending=False)\n",
    "returns_only = sort_returns.loc[:2,['holders_address', 'return_by_wallet']]\n",
    "returns_only.head()"
   ]
  },
  {
   "cell_type": "code",
   "execution_count": null,
   "id": "eeaadfcf",
   "metadata": {},
   "outputs": [],
   "source": [
    "# Pull transactions data for top performing wallet #41\n",
    "df_tx.loc[df_tx['holders_address'] == '0x4db1578cf389b1cda470c08e61c406f3e8bc2e7d'].sort_values('date_time', ascending=False)"
   ]
  },
  {
   "cell_type": "code",
   "execution_count": null,
   "id": "227ef2d9",
   "metadata": {},
   "outputs": [],
   "source": [
    "# Graph the waterfall graph for Wallet 41\n",
    "waterfall_41 = si.waterfall_data(df_tx, '0x4db1578cf389b1cda470c08e61c406f3e8bc2e7d')\n",
    "si.graph_waterfall(waterfall_41, sand_info_df, \"Wallet 41\")"
   ]
  },
  {
   "cell_type": "code",
   "execution_count": null,
   "id": "9d58113b",
   "metadata": {},
   "outputs": [],
   "source": [
    "# Graph the waterfall graph for Wallet 56\n",
    "waterfall_56 = si.waterfall_data(df_tx, '0x6bcbe6c086cc66806b0b7b4a53409058d85f61c8')\n",
    "si.graph_waterfall(waterfall_56, sand_info_df, \"Wallet 56\")"
   ]
  },
  {
   "cell_type": "code",
   "execution_count": null,
   "id": "69ac1fc2",
   "metadata": {},
   "outputs": [],
   "source": [
    "# Graph the waterfall graph for Wallet 72\n",
    "waterfall_72 = si.waterfall_data(df_tx, '0x896078a63a1878b7fdc8dba468c9a59b94fd7a92')\n",
    "si.graph_waterfall(waterfall_72, sand_info_df, \"Wallet 72\")"
   ]
  },
  {
   "cell_type": "code",
   "execution_count": null,
   "id": "d2ef496a",
   "metadata": {},
   "outputs": [],
   "source": [
    "waterfall_108 = si.waterfall_data(df_tx, '0xb8700c17bb966ab854a343377ddf6a2ef06630a3')\n",
    "si.graph_waterfall(waterfall_108, sand_info_df, \"Wallet 108\")"
   ]
  },
  {
   "cell_type": "markdown",
   "id": "6bb80ccf",
   "metadata": {},
   "source": [
    "# Distribution of Returns"
   ]
  },
  {
   "cell_type": "code",
   "execution_count": null,
   "id": "ef1fdcd4",
   "metadata": {},
   "outputs": [],
   "source": [
    "### importing price data from other asset classes\n",
    "btcusd = pd.read_csv('BTC-USD.csv')\n",
    "ethusd = pd.read_csv('ETH-USD.csv')\n",
    "sp500 = pd.read_csv('SPY.csv')\n",
    "\n",
    "btcusd.rename(columns = {'Adj Close':'BTCUSD'}, inplace = True)\n",
    "btcusd['btcusd_pct_change'] = btcusd['BTCUSD'].pct_change()\n",
    "ethusd.rename(columns = {'Adj Close':'ETHUSD'}, inplace = True)\n",
    "ethusd['ethusd_pct_change'] = ethusd['ETHUSD'].pct_change()\n",
    "sp500.rename(columns = {'Adj Close':'S&P500'}, inplace = True)\n",
    "sp500['sp500_pct_change'] = sp500['S&P500'].pct_change()\n",
    "\n",
    "### importing SAND price from sand_info_df\n",
    "sand_price = sand_info_df[['date','prices']]\n",
    "sand_price['prices_pct_change'] = sand_price['prices'].pct_change()\n",
    "sand_price.rename(columns = {'date':'Date'}, inplace = True)"
   ]
  },
  {
   "cell_type": "code",
   "execution_count": null,
   "id": "8ffbb5e4",
   "metadata": {},
   "outputs": [],
   "source": [
    "### merging all the daily percentages together into one dataframe\n",
    "df_pct_change = pd.merge(btcusd[['Date','btcusd_pct_change']], ethusd[['Date','ethusd_pct_change']], on='Date', how='outer')\n",
    "df_pct_change = pd.merge(df_pct_change,sp500[['Date','sp500_pct_change']])\n",
    "df_pct_change['Date'] = pd.to_datetime(df_pct_change['Date'])\n",
    "df_pct_change = pd.merge(df_pct_change, sand_price[['Date','prices_pct_change']],how='outer')\n",
    "df_pct_change.rename(columns = {'prices_pct_change':'SAND_pct_change'}, inplace = True)\n",
    "# display(df_pct_change.head())\n",
    "display(df_pct_change.describe())"
   ]
  },
  {
   "cell_type": "code",
   "execution_count": null,
   "id": "7c94692c",
   "metadata": {},
   "outputs": [],
   "source": [
    "histo_list = [df_pct_change['btcusd_pct_change'], df_pct_change['ethusd_pct_change'], df_pct_change['sp500_pct_change'], df_pct_change['SAND_pct_change']]\n",
    "\n",
    "plt.figure(figsize=(12, 8))\n",
    "plt.rcParams.update({'font.size': 20})\n",
    "plt.hist(histo_list, bins=20, histtype='bar', density=True)\n",
    "plt.title('Distribution of returns')\n",
    "plt.legend(['BTCUSD', 'ETHUSD','S&P500','SAND'])\n",
    "plt.ylabel('% frequency')\n",
    "plt.xlabel('Daily Return')\n",
    "plt.ylim((None,10.5))\n",
    "plt.show()"
   ]
  },
  {
   "cell_type": "code",
   "execution_count": null,
   "id": "686e9929",
   "metadata": {},
   "outputs": [],
   "source": [
    "skew = df_pct_change.skew(axis = 0, skipna = True)\n",
    "skew.sort_values(inplace=True)\n",
    "plt.rcParams.update({'font.size': 14})\n",
    "plt.xticks(rotation=90)\n",
    "plt.title('Skewness of different coins vs the S&P 500')\n",
    "plt.bar(skew.index, skew.values ,width=0.4)\n",
    "\n"
   ]
  },
  {
   "cell_type": "markdown",
   "id": "335e2e22",
   "metadata": {},
   "source": [
    "## Average holding periods of alpha wallets"
   ]
  },
  {
   "cell_type": "code",
   "execution_count": null,
   "id": "a3b93602",
   "metadata": {},
   "outputs": [],
   "source": [
    "print('Positive alpha wallets:', round(wallet_level_data2[wallet_level_data2['wallet_alpha'] > 0]['holding_period_days'].median(),0), 'days')\n",
    "print('Negative alpha wallets:', round(wallet_level_data2[wallet_level_data2['wallet_alpha'] < 0]['holding_period_days'].median(),0), 'days')"
   ]
  }
 ],
 "metadata": {
  "kernelspec": {
   "display_name": "Python 3",
   "language": "python",
   "name": "python3"
  },
  "language_info": {
   "codemirror_mode": {
    "name": "ipython",
    "version": 3
   },
   "file_extension": ".py",
   "mimetype": "text/x-python",
   "name": "python",
   "nbconvert_exporter": "python",
   "pygments_lexer": "ipython3",
   "version": "3.8.8"
  }
 },
 "nbformat": 4,
 "nbformat_minor": 5
}
